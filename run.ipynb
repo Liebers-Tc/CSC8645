{
 "cells": [
  {
   "cell_type": "code",
   "execution_count": null,
   "metadata": {},
   "outputs": [],
   "source": [
    "import os\n",
    "import sys\n",
    "import torch"
   ]
  },
  {
   "cell_type": "code",
   "execution_count": null,
   "metadata": {},
   "outputs": [],
   "source": [
    "# Train\n",
    "sys.argv = [\"train.py\",\n",
    "    \"--dataset\", \"../../data/FoodSeg103/new_dataset\",\n",
    "    \"--model_name\", \"unet\",\n",
    "    \"--in_channels\", \"3\",\n",
    "    \"--num_classes\", \"104\",\n",
    "    \"--batch_size\", \"16\",\n",
    "    \"--num_workers\", \"12\",\n",
    "    \"--loss\", \"ce\",\n",
    "    \"--metric\", \"miou\", \"dice\", \"acc\",\n",
    "    \"--main_metric\", \"miou\",\n",
    "    \"--epochs\", \"30\",\n",
    "    \"--use_amp\",\n",
    "    \"--vis_num_sample\", \"1\"\n",
    "]\n",
    "%run train.py"
   ]
  },
  {
   "cell_type": "code",
   "execution_count": null,
   "metadata": {},
   "outputs": [],
   "source": [
    "# Predict\n",
    "sys.argv = [\"predict.py\",\n",
    "    \"--dataset\", \"../../data/FoodSeg103/new_dataset\",\n",
    "    \"--model_name\", \"unet\",\n",
    "    \"--in_channels\", \"3\",\n",
    "    \"--num_classes\", \"104\",\n",
    "    \"--batch_size\", \"8\",\n",
    "    \"--num_workers\", \"8\",\n",
    "    \"--use_amp\",\n",
    "    \"--pretrain_path\", \"result/run_1/checkpoint/best.pt\",\n",
    "    \"--save_dir\", \"result/run_1\"\n",
    "]\n",
    "%run predict.py"
   ]
  }
 ],
 "metadata": {
  "language_info": {
   "name": "python"
  }
 },
 "nbformat": 4,
 "nbformat_minor": 2
}
