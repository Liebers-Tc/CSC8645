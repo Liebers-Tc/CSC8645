{
 "cells": [
  {
   "cell_type": "code",
   "execution_count": null,
   "metadata": {},
   "outputs": [],
   "source": [
    "import os\n",
    "os.environ[\"KMP_DUPLICATE_LIB_OK\"] = \"TRUE\""
   ]
  },
  {
   "cell_type": "code",
   "execution_count": null,
   "metadata": {},
   "outputs": [],
   "source": [
    "# Train\n",
    "args = [\n",
    "    '--dataset', '../../data/FoodSeg103/new_dataset',\n",
    "    '--model_name', 'unet',\n",
    "    '--in_channels', '3',\n",
    "    '--num_classes', '104',\n",
    "    '--batch_size', '1',\n",
    "    '--num_workers', '8',\n",
    "    '--epochs', '2',\n",
    "\n",
    "    '--optimizer', 'adamw',\n",
    "    '--scheduler', 'step',\n",
    "    '--learning_rate', '1e-3',\n",
    "    '--weight_decay', '1e-4',\n",
    "    '--loss', 'ce',\n",
    "    '--metric', 'miou', 'dice', 'acc',\n",
    "    '--main_metric', 'miou',\n",
    "    '--early_stopping_patience', '3',\n",
    "    '--use_amp'\n",
    "    ]\n",
    "\n",
    "!python train_shell.py {' '.join(args)}"
   ]
  },
  {
   "cell_type": "code",
   "execution_count": null,
   "metadata": {},
   "outputs": [],
   "source": [
    "# Predict\n",
    "args = [\n",
    "    '--dataset', '../../data/FoodSeg103/new_dataset',\n",
    "    '--model_name', 'unet',\n",
    "    '--in_channels', '3',\n",
    "    '--num_classes', '104',\n",
    "    '--batch_size', '8',\n",
    "    '--num_workers', '8',\n",
    "    '--pretrain_path', 'result/run_1/checkpoint/best.pt',\n",
    "    '--save_dir', 'result/run_1/predict',\n",
    "    '--use_amp'\n",
    "]\n",
    "\n",
    "!python predict.py {' '.join(args)}"
   ]
  }
 ],
 "metadata": {
  "kernelspec": {
   "display_name": "py_3127",
   "language": "python",
   "name": "python3"
  },
  "language_info": {
   "codemirror_mode": {
    "name": "ipython",
    "version": 3
   },
   "file_extension": ".py",
   "mimetype": "text/x-python",
   "name": "python",
   "nbconvert_exporter": "python",
   "pygments_lexer": "ipython3",
   "version": "3.12.7"
  }
 },
 "nbformat": 4,
 "nbformat_minor": 2
}
