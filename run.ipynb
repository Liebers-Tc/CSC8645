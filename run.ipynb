{
 "cells": [
  {
   "cell_type": "code",
   "execution_count": 25,
   "metadata": {},
   "outputs": [
    {
     "name": "stdout",
     "output_type": "stream",
     "text": [
      "\n",
      "[Epoch 1/30]\n"
     ]
    },
    {
     "name": "stderr",
     "output_type": "stream",
     "text": [
      "\n",
      "Train:   0%|          | 0/356 [00:00<?, ?it/s]\n",
      "                                              \n",
      "Traceback (most recent call last):\n",
      "  File \"g:\\NCL\\8645_Advanced_AI\\Task1\\CNN\\UNet\\train_shell.py\", line 89, in <module>\n",
      "    main()\n",
      "  File \"g:\\NCL\\8645_Advanced_AI\\Task1\\CNN\\UNet\\train_shell.py\", line 85, in main\n",
      "    trainer.fit(args.epochs)\n",
      "  File \"g:\\NCL\\8645_Advanced_AI\\Task1\\CNN\\UNet\\trainer.py\", line 133, in fit\n",
      "    train_stats = self.run_one_epoch(train=True)\n",
      "                  ^^^^^^^^^^^^^^^^^^^^^^^^^^^^^^\n",
      "  File \"g:\\NCL\\8645_Advanced_AI\\Task1\\CNN\\UNet\\trainer.py\", line 65, in run_one_epoch\n",
      "    loss = self.loss_fn(outputs, masks)\n",
      "           ^^^^^^^^^^^^^^^^^^^^^^^^^^^^\n",
      "  File \"d:\\anaconda3\\envs\\py_3127\\Lib\\site-packages\\torch\\nn\\modules\\module.py\", line 1739, in _wrapped_call_impl\n",
      "    return self._call_impl(*args, **kwargs)\n",
      "           ^^^^^^^^^^^^^^^^^^^^^^^^^^^^^^^^\n",
      "  File \"d:\\anaconda3\\envs\\py_3127\\Lib\\site-packages\\torch\\nn\\modules\\module.py\", line 1750, in _call_impl\n",
      "    return forward_call(*args, **kwargs)\n",
      "           ^^^^^^^^^^^^^^^^^^^^^^^^^^^^^\n",
      "  File \"g:\\NCL\\8645_Advanced_AI\\Task1\\CNN\\UNet\\utils\\loss.py\", line 12, in forward\n",
      "    return self.loss(y_pred, y_true)\n",
      "           ^^^^^^^^^^^^^^^^^^^^^^^^^\n",
      "  File \"d:\\anaconda3\\envs\\py_3127\\Lib\\site-packages\\torch\\nn\\modules\\module.py\", line 1739, in _wrapped_call_impl\n",
      "    return self._call_impl(*args, **kwargs)\n",
      "           ^^^^^^^^^^^^^^^^^^^^^^^^^^^^^^^^\n",
      "  File \"d:\\anaconda3\\envs\\py_3127\\Lib\\site-packages\\torch\\nn\\modules\\module.py\", line 1750, in _call_impl\n",
      "    return forward_call(*args, **kwargs)\n",
      "           ^^^^^^^^^^^^^^^^^^^^^^^^^^^^^\n",
      "  File \"d:\\anaconda3\\envs\\py_3127\\Lib\\site-packages\\torch\\nn\\modules\\loss.py\", line 1295, in forward\n",
      "    return F.cross_entropy(\n",
      "           ^^^^^^^^^^^^^^^^\n",
      "  File \"d:\\anaconda3\\envs\\py_3127\\Lib\\site-packages\\torch\\nn\\functional.py\", line 3494, in cross_entropy\n",
      "    return torch._C._nn.cross_entropy_loss(\n",
      "           ^^^^^^^^^^^^^^^^^^^^^^^^^^^^^^^^\n",
      "RuntimeError: input and target batch or spatial sizes don't match: target [16, 572, 572], input [16, 104, 286, 286]\n"
     ]
    }
   ],
   "source": [
    "# Train\n",
    "args = [\n",
    "    '--dataset', '../../data/FoodSeg103/new_dataset',\n",
    "    '--model_name', 'unet',\n",
    "    '--in_channels', '3',\n",
    "    '--num_classes', '104',\n",
    "    '--batch_size', '16',\n",
    "    '--num_workers', '10',\n",
    "    '--loss', 'ce',\n",
    "    '--metric', 'miou', 'dice', 'acc',\n",
    "    '--main_metric', 'miou',\n",
    "    '--epochs', '30',\n",
    "    '--use_amp',\n",
    "    '--vis_num_sample', '1',\n",
    "    '--early_stopping_patience', '3'\n",
    "    ]\n",
    "\n",
    "!python train_shell.py {' '.join(args)}"
   ]
  },
  {
   "cell_type": "code",
   "execution_count": null,
   "metadata": {},
   "outputs": [],
   "source": [
    "# Predict\n",
    "args = [\n",
    "    '--dataset', '../../data/FoodSeg103/new_dataset',\n",
    "    '--model_name', 'unet',\n",
    "    '--in_channels', '3',\n",
    "    '--num_classes', '104',\n",
    "    '--batch_size', '8',\n",
    "    '--num_workers', '8',\n",
    "    '--use_amp',\n",
    "    '--pretrain_path', 'result/run_1/checkpoint/best.pt',\n",
    "    '--save_dir', 'result/run_1'\n",
    "]\n",
    "\n",
    "!python predict.py {' '.join(args)}"
   ]
  }
 ],
 "metadata": {
  "kernelspec": {
   "display_name": "py_3127",
   "language": "python",
   "name": "python3"
  },
  "language_info": {
   "codemirror_mode": {
    "name": "ipython",
    "version": 3
   },
   "file_extension": ".py",
   "mimetype": "text/x-python",
   "name": "python",
   "nbconvert_exporter": "python",
   "pygments_lexer": "ipython3",
   "version": "3.12.7"
  }
 },
 "nbformat": 4,
 "nbformat_minor": 2
}
